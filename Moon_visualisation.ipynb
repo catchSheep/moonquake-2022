{
 "cells": [
  {
   "cell_type": "markdown",
   "id": "6d85b377-5303-4635-99e2-21dba9ec8079",
   "metadata": {},
   "source": [
    "# Notebook testing out visualisation of the moon as a 3d sphere\n",
    "\n",
    "Mostly taken from the tutorial here:\n",
    "https://towardsdatascience.com/create-interactive-globe-earthquake-plot-in-python-b0b52b646f27"
   ]
  },
  {
   "cell_type": "code",
   "execution_count": 1,
   "id": "4547bfce-8e23-4fbc-a0de-65a540bc5e80",
   "metadata": {},
   "outputs": [],
   "source": [
    "import plotly"
   ]
  },
  {
   "cell_type": "code",
   "execution_count": 6,
   "id": "61244d9a-596d-4569-91a3-212f3ccac0ed",
   "metadata": {},
   "outputs": [],
   "source": [
    "import xarray as xa\n",
    "import rioxarray as rio"
   ]
  },
  {
   "cell_type": "code",
   "execution_count": 24,
   "id": "b2e9e82f-6c69-42af-bc0a-d469fcd51162",
   "metadata": {},
   "outputs": [
    {
     "data": {
      "text/plain": [
       "4096"
      ]
     },
     "execution_count": 24,
     "metadata": {},
     "output_type": "execute_result"
    }
   ],
   "source": [
    "data.x.size"
   ]
  },
  {
   "cell_type": "code",
   "execution_count": 168,
   "id": "24e143cf-3f9b-4511-a2ee-10d25de34604",
   "metadata": {},
   "outputs": [],
   "source": [
    "def get_data(fname = 'lroc_color_poles_4k.tif',\n",
    "             ds_factor = 2):\n",
    "    \"\"\" \n",
    "    Gets the data from a geotif with filename fname, downscaling int the processs\n",
    "    Inputs:\n",
    "        fname (str) : filename of geotif to load\n",
    "        ds_factor (int) downscale factor\n",
    "    Output:\n",
    "        lon, lat, data ([n_lat x n_lon] np arrays)\n",
    "    \"\"\"\n",
    "    import rioxarray as rio\n",
    "    import xarray as xa\n",
    "    import numpy as np\n",
    "    from rasterio.enums import Resampling\n",
    "    \n",
    "    xds = rio.open_rasterio(fname)\n",
    "    xds.attrs['crs'] = 'EPSG:4326'\n",
    "    downscale_factor = 2\n",
    "    new_width = xds.rio.width // ds_factor\n",
    "    new_height = xds.rio.height // ds_factor\n",
    "    xds.var\n",
    "\n",
    "    xds_resampled = xds.rio.reproject(\n",
    "        xds.rio.crs,\n",
    "        shape=(new_height, new_width),\n",
    "        resampling=Resampling.bilinear,\n",
    "        SRC_METHOD='NO_GEOTRANSFORM'\n",
    "    )\n",
    "    lon = xds_resampled.x.data\n",
    "    lat = xds_resampled.y.data\n",
    "    \n",
    "    lon = (lon - lon.min()) / (lon.max() - lon.min()) * 360 - 180 \n",
    "    lat = (lat - lat.min()) / (lat.max() - lat.min()) * 180 - 90 \n",
    "\n",
    "\n",
    "    \n",
    "    \n",
    "    lon, lat = np.meshgrid(lon, lat)\n",
    "    \n",
    "    return lon, lat, xds_resampled.data[0, ...]"
   ]
  },
  {
   "cell_type": "code",
   "execution_count": 171,
   "id": "79642e30-85ff-4659-8190-b278e5c75c63",
   "metadata": {},
   "outputs": [],
   "source": [
    "import numpy as np\n",
    "def degree2radians(degree):\n",
    "  # convert degrees to radians\n",
    "  return degree*np.pi/180\n",
    "  \n",
    "def mapping_map_to_sphere(lon, lat, radius=1):\n",
    "    # this function maps the points of coords (lon, lat) to points onto the sphere of radius radius\n",
    "    lon=np.array(lon, dtype=np.float64)\n",
    "    lat=np.array(lat, dtype=np.float64)\n",
    "    lon=degree2radians(lon)\n",
    "    lat=degree2radians(lat)\n",
    "    xs=radius*np.cos(lon)*np.cos(lat)\n",
    "    ys=radius*np.sin(lon)*np.cos(lat)\n",
    "    zs=radius*np.sin(lat)\n",
    "    return xs, ys, zs\n"
   ]
  },
  {
   "cell_type": "code",
   "execution_count": 180,
   "id": "61a83825-8195-4adc-b0b1-892033d8ca00",
   "metadata": {},
   "outputs": [],
   "source": [
    "# Get mesh-shape topography data\n",
    "lon, lat, greys = get_data(ds_factor = 2)"
   ]
  },
  {
   "cell_type": "code",
   "execution_count": 181,
   "id": "4d6ce45f-b9a2-44ec-a9a7-40f3b0ff8df1",
   "metadata": {},
   "outputs": [],
   "source": [
    "\n",
    "\n",
    "# Locations on the sphere fro grid cells in x,y,z coords\n",
    "xs, ys, zs = mapping_map_to_sphere(lon, lat)"
   ]
  },
  {
   "cell_type": "code",
   "execution_count": 182,
   "id": "6bc77b52-beb3-4464-a4ae-8c8b0c7bfe56",
   "metadata": {},
   "outputs": [
    {
     "data": {
      "text/plain": [
       "180.0"
      ]
     },
     "execution_count": 182,
     "metadata": {},
     "output_type": "execute_result"
    }
   ],
   "source": [
    "np.max(lon)"
   ]
  },
  {
   "cell_type": "code",
   "execution_count": 186,
   "id": "322f5183-86a9-4adb-987d-ac4029939cda",
   "metadata": {},
   "outputs": [],
   "source": [
    "Ctopo = [[0, 'rgb(0, 0, 0)'],[1.0, 'rgb(255,255,255)']]"
   ]
  },
  {
   "cell_type": "code",
   "execution_count": 187,
   "id": "b2b1abbb-2e06-41b1-a42f-84fe80be4cc0",
   "metadata": {},
   "outputs": [],
   "source": [
    "cmin = 0\n",
    "cmax = 210\n",
    "topo_sphere=dict(type='surface',\n",
    "  x=xs,\n",
    "  y=ys,\n",
    "  z=zs,\n",
    "  colorscale='greys',\n",
    "  surfacecolor=greys,\n",
    "  cmin=cmin,\n",
    "  cmax=cmax)"
   ]
  },
  {
   "cell_type": "code",
   "execution_count": 188,
   "id": "60bf4261-5e7d-404e-9eb5-db493d06bec0",
   "metadata": {},
   "outputs": [],
   "source": [
    "import plotly.graph_objs as go\n",
    "\n",
    "titlecolor = 'white'\n",
    "bgcolor = 'black'\n",
    "\n",
    "\n",
    "\n",
    "\n",
    "noaxis=dict(showbackground=False,\n",
    "  showgrid=False,\n",
    "  showline=False,\n",
    "  showticklabels=False,\n",
    "  ticks='',\n",
    "  title='',\n",
    "  zeroline=False)\n",
    "\n",
    "layout = go.Layout(\n",
    "  autosize=False, width=1200, height=800,\n",
    "  title = '3D spherical topography map',\n",
    "  titlefont = dict(family='Courier New', color=titlecolor),\n",
    "  showlegend = False,\n",
    "  scene = dict(\n",
    "    xaxis = noaxis,\n",
    "    yaxis = noaxis,\n",
    "    zaxis = noaxis,\n",
    "    aspectmode='manual',\n",
    "    aspectratio=go.layout.scene.Aspectratio(\n",
    "      x=1, y=1, z=1)),\n",
    "  paper_bgcolor = bgcolor,\n",
    "  plot_bgcolor = bgcolor)"
   ]
  },
  {
   "cell_type": "code",
   "execution_count": 189,
   "id": "292f3bd3-a5a5-498d-823f-9281d2b4619e",
   "metadata": {},
   "outputs": [
    {
     "data": {
      "text/plain": [
       "'SphericalTopography.html'"
      ]
     },
     "execution_count": 189,
     "metadata": {},
     "output_type": "execute_result"
    }
   ],
   "source": [
    "from plotly.offline import plot\n",
    "\n",
    "plot_data=[topo_sphere]\n",
    "fig = go.Figure(data=plot_data, layout=layout)\n",
    "plot(fig, validate = False, filename='SphericalTopography.html',\n",
    "   auto_open=True)"
   ]
  },
  {
   "cell_type": "code",
   "execution_count": null,
   "id": "079a0799-704b-4fab-8693-0c3ff0c65201",
   "metadata": {},
   "outputs": [],
   "source": []
  },
  {
   "cell_type": "code",
   "execution_count": null,
   "id": "baf5449f-5153-4ab2-a941-1b861293da59",
   "metadata": {},
   "outputs": [],
   "source": []
  },
  {
   "cell_type": "code",
   "execution_count": null,
   "id": "a6e2cd5c-3a15-47ce-94d8-7ef4cacf1039",
   "metadata": {},
   "outputs": [],
   "source": []
  },
  {
   "cell_type": "code",
   "execution_count": null,
   "id": "62e3bd18-b874-4bc9-8234-64383f9f32d8",
   "metadata": {},
   "outputs": [],
   "source": []
  }
 ],
 "metadata": {
  "kernelspec": {
   "display_name": "Python 3 (ipykernel)",
   "language": "python",
   "name": "python3"
  },
  "language_info": {
   "codemirror_mode": {
    "name": "ipython",
    "version": 3
   },
   "file_extension": ".py",
   "mimetype": "text/x-python",
   "name": "python",
   "nbconvert_exporter": "python",
   "pygments_lexer": "ipython3",
   "version": "3.7.12"
  }
 },
 "nbformat": 4,
 "nbformat_minor": 5
}
